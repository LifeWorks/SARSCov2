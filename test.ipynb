{
 "cells": [
  {
   "cell_type": "code",
   "execution_count": 1,
   "metadata": {},
   "outputs": [],
   "source": [
    "import hypernetx as hnx\n",
    "import networkx as nx\n",
    "import numpy as np\n",
    "import pandas as pd\n",
    "import matplotlib.pyplot as plt\n",
    "import math\n",
    "import sys"
   ]
  },
  {
   "cell_type": "markdown",
   "metadata": {},
   "source": [
    "## Load tables"
   ]
  },
  {
   "cell_type": "code",
   "execution_count": 2,
   "metadata": {},
   "outputs": [],
   "source": [
    "dff = pd.read_pickle(\"biggerTrans.pkl\")"
   ]
  },
  {
   "cell_type": "code",
   "execution_count": 3,
   "metadata": {},
   "outputs": [],
   "source": [
    "dffwos2 = pd.read_pickle(\"biggerTransNoSars2.pkl\")"
   ]
  },
  {
   "cell_type": "code",
   "execution_count": 4,
   "metadata": {},
   "outputs": [],
   "source": [
    "dffwos = pd.read_pickle(\"biggerTransNoSars.pkl\")"
   ]
  },
  {
   "cell_type": "code",
   "execution_count": 5,
   "metadata": {},
   "outputs": [],
   "source": [
    "dffwoc = pd.read_pickle(\"biggerTransNoCov.pkl\")"
   ]
  },
  {
   "cell_type": "markdown",
   "metadata": {},
   "source": [
    "## Build the hypergraph"
   ]
  },
  {
   "cell_type": "code",
   "execution_count": 6,
   "metadata": {},
   "outputs": [
    {
     "data": {
      "text/plain": [
       "(9524, 169)"
      ]
     },
     "execution_count": 6,
     "metadata": {},
     "output_type": "execute_result"
    }
   ],
   "source": [
    "dff.shape"
   ]
  },
  {
   "cell_type": "code",
   "execution_count": 7,
   "metadata": {},
   "outputs": [],
   "source": [
    "# now we use some (though not all) of the from_dataframe() arguments and\n",
    "# let the function take care of the dataframe manipulation\n",
    "Hf = hnx.Hypergraph.from_dataframe(dff, # the whole dataframe, b and p columns\n",
    "                                                    #columns=human_b_cols, # choose specific columns\n",
    "                                                    zsc='columns', # other option is 'rows'\n",
    "                                                    absolute=True, # absolute value after z-score is taken\n",
    "                                                    lower_thresh=2) # applies the > 2 threshold after zscore and absolute value)\n",
    "\n",
    "# options that I used the defaults for:\n",
    "# transpose = False: this will transpose the dataframe after z-score and absolute value, essentially creating the dual hypergraph. Instead we're taking the dual after the fact (below).\n",
    "# name = None (string): If you want to give the resulting hypergraph a \"name\" attribute. Not necessary.\n",
    "# key = None (function which evaluates True or False): This is for more complcated thresholding. If you're just doing z-score > some threshold you don't need to worry about this.\n",
    "# rows = None (list of row names): If you want to use only a subset of the rows. This is done before taking z-score so your z-score will be relative only to those rows chosen.\n",
    "# upper_thresh = None (number): You can have a maximum value for the the zscore if you want. You can use both upper_thresh and lower_thresh."
   ]
  },
  {
   "cell_type": "code",
   "execution_count": 8,
   "metadata": {},
   "outputs": [],
   "source": [
    "# running example here for large s value because it finishes relatively quickly. \n",
    "# Small s values take a long time on these large hypergraphs!\n",
    "#betcen30 = hnx.s_betweenness_centrality(HfD, s=30)\n",
    "#clocen30 = hnx.s_harmonic_closeness_centrality(HfD, s=30)"
   ]
  },
  {
   "cell_type": "code",
   "execution_count": 9,
   "metadata": {},
   "outputs": [
    {
     "data": {
      "text/plain": [
       "(8010, 159)"
      ]
     },
     "execution_count": 9,
     "metadata": {},
     "output_type": "execute_result"
    }
   ],
   "source": [
    "Hf.shape"
   ]
  },
  {
   "cell_type": "code",
   "execution_count": 10,
   "metadata": {},
   "outputs": [
    {
     "data": {
      "text/plain": [
       "(159, 8010)"
      ]
     },
     "execution_count": 10,
     "metadata": {},
     "output_type": "execute_result"
    }
   ],
   "source": [
    "HfD = Hf.dual()\n",
    "HfD.shape"
   ]
  },
  {
   "cell_type": "code",
   "execution_count": 12,
   "metadata": {},
   "outputs": [],
   "source": [
    "graph = HfD"
   ]
  },
  {
   "cell_type": "code",
   "execution_count": 13,
   "metadata": {},
   "outputs": [],
   "source": [
    "import ray"
   ]
  },
  {
   "cell_type": "code",
   "execution_count": 14,
   "metadata": {},
   "outputs": [
    {
     "name": "stderr",
     "output_type": "stream",
     "text": [
      "2020-06-03 15:47:37,049\tINFO resource_spec.py:204 -- Starting Ray with 9.81 GiB memory available for workers and up to 4.92 GiB for objects. You can adjust these settings with ray.init(memory=<bytes>, object_store_memory=<bytes>).\n",
      "2020-06-03 15:47:38,173\tINFO services.py:563 -- Failed to connect to the redis server, retrying.\n",
      "2020-06-03 15:47:39,526\tINFO services.py:1168 -- View the Ray dashboard at \u001b[1m\u001b[32mlocalhost:8265\u001b[39m\u001b[22m\n"
     ]
    },
    {
     "data": {
      "text/plain": [
       "{'node_ip_address': '130.20.211.225',\n",
       " 'raylet_ip_address': '130.20.211.225',\n",
       " 'redis_address': '130.20.211.225:60048',\n",
       " 'object_store_address': '/tmp/ray/session_2020-06-03_15-47-37_031702_3119/sockets/plasma_store',\n",
       " 'raylet_socket_name': '/tmp/ray/session_2020-06-03_15-47-37_031702_3119/sockets/raylet',\n",
       " 'webui_url': 'localhost:8265',\n",
       " 'session_dir': '/tmp/ray/session_2020-06-03_15-47-37_031702_3119'}"
      ]
     },
     "execution_count": 14,
     "metadata": {},
     "output_type": "execute_result"
    }
   ],
   "source": [
    "ray.init(num_cpus=7)"
   ]
  },
  {
   "cell_type": "code",
   "execution_count": 24,
   "metadata": {},
   "outputs": [],
   "source": [
    "@ray.remote\n",
    "def betweenness(s, graph = graph):\n",
    "    sbt = hnx.s_betweenness_centrality(graph, s=s)\n",
    "    sbt = pd.Series(sbt)\n",
    "    sbt.to_pickle(\"intermediate/\" + str(s) + \"-betweenness.pkl\")\n",
    "    return(sbt.rename(s))\n",
    "\n",
    "@ray.remote\n",
    "def closeness(s, graph = graph):\n",
    "    scl = hnx.s_harmonic_closeness_centrality(graph, s=s)\n",
    "    scl = pd.Series(scl)\n",
    "    scl.to_pickle(\"intermediate/\" + str(s) + \"-closeness.pkl\")\n",
    "    return(scl.rename(s))"
   ]
  },
  {
   "cell_type": "code",
   "execution_count": 25,
   "metadata": {},
   "outputs": [],
   "source": [
    "HfDsbt2 = ray.get([betweenness.remote(i) for i in range(51,graph.shape[0])])\n",
    "HfDscl2 = ray.get([closeness.remote(i) for i in range(51,graph.shape[0])])"
   ]
  },
  {
   "cell_type": "code",
   "execution_count": 33,
   "metadata": {},
   "outputs": [
    {
     "data": {
      "text/plain": [
       "29"
      ]
     },
     "execution_count": 33,
     "metadata": {},
     "output_type": "execute_result"
    }
   ],
   "source": [
    "max([i for i in range(len(HfDsbt2)) if len(HfDsbt2[i]) > 0])"
   ]
  },
  {
   "cell_type": "code",
   "execution_count": 27,
   "metadata": {},
   "outputs": [
    {
     "data": {
      "text/plain": [
       "80"
      ]
     },
     "execution_count": 27,
     "metadata": {},
     "output_type": "execute_result"
    }
   ],
   "source": [
    "HfDsbt2[29].name"
   ]
  },
  {
   "cell_type": "code",
   "execution_count": 32,
   "metadata": {},
   "outputs": [
    {
     "data": {
      "text/plain": [
       "59"
      ]
     },
     "execution_count": 32,
     "metadata": {},
     "output_type": "execute_result"
    }
   ],
   "source": [
    "max([i for i in range(len(HfDscl2)) if len(HfDscl2[i]) > 0])"
   ]
  },
  {
   "cell_type": "code",
   "execution_count": 31,
   "metadata": {},
   "outputs": [
    {
     "data": {
      "text/plain": [
       "110"
      ]
     },
     "execution_count": 31,
     "metadata": {},
     "output_type": "execute_result"
    }
   ],
   "source": [
    "HfDscl2[59].name"
   ]
  },
  {
   "cell_type": "code",
   "execution_count": 34,
   "metadata": {},
   "outputs": [],
   "source": [
    "ray.shutdown()"
   ]
  },
  {
   "cell_type": "code",
   "execution_count": null,
   "metadata": {},
   "outputs": [],
   "source": []
  }
 ],
 "metadata": {
  "kernelspec": {
   "display_name": "Python 3",
   "language": "python",
   "name": "python3"
  },
  "language_info": {
   "codemirror_mode": {
    "name": "ipython",
    "version": 3
   },
   "file_extension": ".py",
   "mimetype": "text/x-python",
   "name": "python",
   "nbconvert_exporter": "python",
   "pygments_lexer": "ipython3",
   "version": "3.8.3"
  }
 },
 "nbformat": 4,
 "nbformat_minor": 4
}
