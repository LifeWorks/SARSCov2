{
 "cells": [
  {
   "cell_type": "code",
   "execution_count": null,
   "metadata": {},
   "outputs": [],
   "source": []
  },
  {
   "cell_type": "code",
   "execution_count": 1,
   "metadata": {},
   "outputs": [],
   "source": [
    "import hypernetx as hnx\n",
    "import networkx as nx\n",
    "import numpy as np\n",
    "import pandas as pd\n",
    "import matplotlib.pyplot as plt\n",
    "import math\n",
    "import sys"
   ]
  },
  {
   "cell_type": "code",
   "execution_count": 2,
   "metadata": {},
   "outputs": [],
   "source": [
    "virName = \"Mers\""
   ]
  },
  {
   "cell_type": "code",
   "execution_count": 3,
   "metadata": {},
   "outputs": [],
   "source": [
    "#dft = pd.read_pickle(\"bigTransNo\" + virName + \".pkl\")\n",
    "dft = pd.read_pickle(\"bigTrans\" + virName + \".pkl\")"
   ]
  },
  {
   "cell_type": "code",
   "execution_count": 4,
   "metadata": {},
   "outputs": [],
   "source": [
    "# now we use some (though not all) of the from_dataframe() arguments and\n",
    "# let the function take care of the dataframe manipulation\n",
    "Hf = hnx.Hypergraph.from_dataframe(dft, # the whole dataframe, b and p columns\n",
    "                                                    #columns=human_b_cols, # choose specific columns\n",
    "                                                    zsc='columns', # other option is 'rows'\n",
    "                                                    absolute=True, # absolute value after z-score is taken\n",
    "                                                    lower_thresh=2) # applies the > 2 threshold after zscore and absolute value)\n",
    "\n",
    "# options that I used the defaults for:\n",
    "# transpose = False: this will transpose the dataframe after z-score and absolute value, essentially creating the dual hypergraph. Instead we're taking the dual after the fact (below).\n",
    "# name = None (string): If you want to give the resulting hypergraph a \"name\" attribute. Not necessary.\n",
    "# key = None (function which evaluates True or False): This is for more complcated thresholding. If you're just doing z-score > some threshold you don't need to worry about this.\n",
    "# rows = None (list of row names): If you want to use only a subset of the rows. This is done before taking z-score so your z-score will be relative only to those rows chosen.\n",
    "# upper_thresh = None (number): You can have a maximum value for the the zscore if you want. You can use both upper_thresh and lower_thresh."
   ]
  },
  {
   "cell_type": "code",
   "execution_count": 5,
   "metadata": {},
   "outputs": [
    {
     "data": {
      "text/plain": [
       "(5229, 49)"
      ]
     },
     "execution_count": 5,
     "metadata": {},
     "output_type": "execute_result"
    }
   ],
   "source": [
    "Hf.shape"
   ]
  },
  {
   "cell_type": "code",
   "execution_count": 6,
   "metadata": {},
   "outputs": [],
   "source": [
    "HfD = Hf.dual()"
   ]
  },
  {
   "cell_type": "code",
   "execution_count": 7,
   "metadata": {},
   "outputs": [
    {
     "data": {
      "text/plain": [
       "(49, 5229)"
      ]
     },
     "execution_count": 7,
     "metadata": {},
     "output_type": "execute_result"
    }
   ],
   "source": [
    "HfD.shape"
   ]
  },
  {
   "cell_type": "code",
   "execution_count": 8,
   "metadata": {},
   "outputs": [],
   "source": [
    "graph = HfD"
   ]
  },
  {
   "cell_type": "code",
   "execution_count": 9,
   "metadata": {},
   "outputs": [],
   "source": [
    "#import ray\n",
    "#ray.init(num_cpus=3)"
   ]
  },
  {
   "cell_type": "code",
   "execution_count": 10,
   "metadata": {},
   "outputs": [],
   "source": [
    "#@ray.remote\n",
    "def betweenness(s, graph = graph):\n",
    "    sbt = hnx.s_betweenness_centrality(graph, s=s)\n",
    "    sbt = pd.Series(sbt)\n",
    "    #sbt.to_pickle(\"no\" + virName + \"/\" + str(s) + \"-betweenness.pkl\")\n",
    "    sbt.to_pickle(virName + \"/\" + str(s) + \"-betweenness.pkl\")\n",
    "    #return(sbt.rename(s))\n",
    "\n",
    "#@ray.remote\n",
    "def closeness(s, graph = graph):\n",
    "    scl = hnx.s_harmonic_closeness_centrality(graph, s=s)\n",
    "    scl = pd.Series(scl)\n",
    "    #scl.to_pickle(\"no\" + virName + \"/\" + str(s) + \"-closeness.pkl\")\n",
    "    scl.to_pickle(virName + \"/\" + str(s) + \"-closeness.pkl\")\n",
    "    #return(scl.rename(s))    "
   ]
  },
  {
   "cell_type": "code",
   "execution_count": 11,
   "metadata": {},
   "outputs": [],
   "source": [
    "#HfDsbt2 = ray.get([betweenness.remote(i) for i in range(1,graph.shape[0])])\n",
    "#HfDscl2 = ray.get([closeness.remote(i) for i in range(1,graph.shape[0])])"
   ]
  },
  {
   "cell_type": "code",
   "execution_count": 12,
   "metadata": {},
   "outputs": [],
   "source": [
    "#ray.shutdown()"
   ]
  },
  {
   "cell_type": "code",
   "execution_count": 13,
   "metadata": {},
   "outputs": [],
   "source": [
    "for i in range(1,graph.shape[0]):\n",
    "    betweenness(i)"
   ]
  },
  {
   "cell_type": "code",
   "execution_count": null,
   "metadata": {},
   "outputs": [],
   "source": []
  }
 ],
 "metadata": {
  "kernelspec": {
   "display_name": "Python 3",
   "language": "python",
   "name": "python3"
  },
  "language_info": {
   "codemirror_mode": {
    "name": "ipython",
    "version": 3
   },
   "file_extension": ".py",
   "mimetype": "text/x-python",
   "name": "python",
   "nbconvert_exporter": "python",
   "pygments_lexer": "ipython3",
   "version": "3.8.3"
  }
 },
 "nbformat": 4,
 "nbformat_minor": 4
}
